{
 "cells": [
  {
   "cell_type": "code",
   "execution_count": 1,
   "metadata": {},
   "outputs": [],
   "source": [
    "import rospy\n",
    "from sensor_msgs.msg import PointCloud2\n",
    "import numpy as np\n",
    "import ros_numpy\n",
    "\n",
    "rospy.init_node('node')\n",
    "\n",
    "pub = rospy.Publisher('/points_for_save', PointCloud2, queue_size=10)"
   ]
  },
  {
   "cell_type": "code",
   "execution_count": 2,
   "metadata": {},
   "outputs": [],
   "source": [
    "pcd = np.random.rand(100000, 4)"
   ]
  },
  {
   "cell_type": "code",
   "execution_count": 7,
   "metadata": {},
   "outputs": [],
   "source": [
    "pc_array = np.zeros(len(pcd), dtype=[\n",
    "    ('x', np.float32),\n",
    "    ('y', np.float32),\n",
    "    ('z', np.float32),\n",
    "    ('intensity', np.float32),\n",
    "])\n",
    "pc_array['x'] = pcd[:, 0]\n",
    "pc_array['y'] = pcd[:, 1]\n",
    "pc_array['z'] = pcd[:, 2]\n",
    "pc_array['intensity'] = pcd[:, 3]\n",
    "\n",
    "msg = ros_numpy.msgify(PointCloud2, pc_array, stamp=rospy.Time.now(), frame_id='/base_link')"
   ]
  },
  {
   "cell_type": "code",
   "execution_count": 8,
   "metadata": {},
   "outputs": [],
   "source": [
    "pub.publish(msg)"
   ]
  },
  {
   "cell_type": "code",
   "execution_count": 29,
   "metadata": {},
   "outputs": [],
   "source": [
    "def publish():\n",
    "\tpcd = np.random.rand(10000, 4)\n",
    "\tpc_array = np.zeros(len(pcd), dtype=[\n",
    "\t\t('x', np.float32),\n",
    "\t\t('y', np.float32),\n",
    "\t\t('z', np.float32),\n",
    "\t\t('intensity', np.float32),\n",
    "\t])\n",
    "\tpc_array['x'] = pcd[:, 0]\n",
    "\tpc_array['y'] = pcd[:, 1]\n",
    "\tpc_array['z'] = pcd[:, 2]\n",
    "\tpc_array['intensity'] = pcd[:, 3]\n",
    "\n",
    "\tpc_msg = ros_numpy.msgify(PointCloud2, pc_array, stamp=rospy.Time.now(), frame_id='/base_link')\n",
    "\tpub.publish(pc_msg)"
   ]
  },
  {
   "cell_type": "code",
   "execution_count": 60,
   "metadata": {},
   "outputs": [],
   "source": [
    "publish()"
   ]
  },
  {
   "cell_type": "markdown",
   "metadata": {},
   "source": [
    "# Publish from pcd file"
   ]
  },
  {
   "cell_type": "code",
   "execution_count": 1,
   "metadata": {},
   "outputs": [
    {
     "name": "stdout",
     "output_type": "stream",
     "text": [
      "Jupyter environment detected. Enabling Open3D WebVisualizer.\n",
      "[Open3D INFO] WebRTC GUI backend enabled.\n",
      "[Open3D INFO] WebRTCWindowSystem: HTTP handshake server disabled.\n"
     ]
    }
   ],
   "source": [
    "import rospy\n",
    "import ros_numpy\n",
    "from sensor_msgs.msg import PointCloud2\n",
    "import open3d as o3d\n",
    "from time import sleep\n",
    "import numpy as np\n",
    "\n",
    "rospy.init_node('load_pcd')\n",
    "\n",
    "pub = rospy.Publisher('points_for_save', PointCloud2, queue_size=10)"
   ]
  },
  {
   "cell_type": "code",
   "execution_count": 2,
   "metadata": {},
   "outputs": [],
   "source": [
    "import glob\n",
    "import os\n",
    "\n",
    "pcd_list = glob.glob(os.path.join(\"pcds\", \"*.pcd\"))\n",
    "pcds = [o3d.io.read_point_cloud(path) for path in pcd_list]"
   ]
  },
  {
   "cell_type": "code",
   "execution_count": 4,
   "metadata": {},
   "outputs": [],
   "source": [
    "for pcd in pcds:\n",
    "\tpoints = np.asarray(pcd.points)\n",
    "\n",
    "\tpc_array = np.zeros(len(points), dtype=[\n",
    "\t\t('x', np.float32),\n",
    "\t\t('y', np.float32),\n",
    "\t\t('z', np.float32),\n",
    "\t])\n",
    "\tpc_array['x'] = points[:, 0]\n",
    "\tpc_array['y'] = points[:, 1]\n",
    "\tpc_array['z'] = points[:, 2]\n",
    "\n",
    "\tmsg = ros_numpy.msgify(PointCloud2, pc_array, stamp=rospy.Time.now(), frame_id='base_link')\n",
    "\tpub.publish(msg)\n",
    "\tsleep(10)"
   ]
  }
 ],
 "metadata": {
  "kernelspec": {
   "display_name": "Python 3",
   "language": "python",
   "name": "python3"
  },
  "language_info": {
   "codemirror_mode": {
    "name": "ipython",
    "version": 3
   },
   "file_extension": ".py",
   "mimetype": "text/x-python",
   "name": "python",
   "nbconvert_exporter": "python",
   "pygments_lexer": "ipython3",
   "version": "3.8.10"
  }
 },
 "nbformat": 4,
 "nbformat_minor": 2
}
